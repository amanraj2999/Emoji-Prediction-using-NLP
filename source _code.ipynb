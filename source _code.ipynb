{
 "cells": [
  {
   "cell_type": "code",
   "execution_count": 287,
   "metadata": {},
   "outputs": [
    {
     "name": "stdout",
     "output_type": "stream",
     "text": [
      "Requirement already satisfied: emoji in c:\\users\\amanr\\anaconda3\\lib\\site-packages (0.6.0)\n"
     ]
    }
   ],
   "source": [
    "!pip install emoji"
   ]
  },
  {
   "cell_type": "markdown",
   "metadata": {},
   "source": [
    "### Working with emoji package"
   ]
  },
  {
   "cell_type": "code",
   "execution_count": 288,
   "metadata": {},
   "outputs": [],
   "source": [
    "import emoji as emoji"
   ]
  },
  {
   "cell_type": "code",
   "execution_count": 289,
   "metadata": {},
   "outputs": [],
   "source": [
    "# emoji.EMOJI_UNICODE --> to see all thr emojis"
   ]
  },
  {
   "cell_type": "code",
   "execution_count": 290,
   "metadata": {},
   "outputs": [],
   "source": [
    "emoji_dictionary = {\"0\": \"\\u2764\\uFE0F\",    \n",
    "                    \"1\": \":baseball:\",\n",
    "                    \"2\": \":beaming_face_with_smiling_eyes:\",\n",
    "                    \"3\": \":downcast_face_with_sweat:\",\n",
    "                    \"4\": \":fork_and_knife:\",\n",
    "                    \"5\": \":hundred_points:\",\n",
    "                    \"6\": \":fire:\",\n",
    "                    \"7\": \":chestnut:\"\n",
    "                   }"
   ]
  },
  {
   "cell_type": "code",
   "execution_count": 291,
   "metadata": {},
   "outputs": [
    {
     "data": {
      "text/plain": [
       "'🌰'"
      ]
     },
     "execution_count": 291,
     "metadata": {},
     "output_type": "execute_result"
    }
   ],
   "source": [
    "emoji.emojize(\":chestnut:\")"
   ]
  },
  {
   "cell_type": "code",
   "execution_count": 292,
   "metadata": {},
   "outputs": [
    {
     "name": "stdout",
     "output_type": "stream",
     "text": [
      "❤️\n",
      "⚾\n",
      "😁\n",
      "😓\n",
      "🍴\n",
      "💯\n",
      "🔥\n",
      "🌰\n"
     ]
    }
   ],
   "source": [
    "for e in emoji_dictionary.values():           # print all emoji in the list\n",
    "    print(emoji.emojize(e))"
   ]
  },
  {
   "cell_type": "markdown",
   "metadata": {},
   "source": [
    "### Step2: Processing custom emoji dataset"
   ]
  },
  {
   "cell_type": "code",
   "execution_count": 293,
   "metadata": {},
   "outputs": [],
   "source": [
    "import numpy as np\n",
    "import pandas as pd"
   ]
  },
  {
   "cell_type": "code",
   "execution_count": 294,
   "metadata": {},
   "outputs": [],
   "source": [
    "train = pd.read_csv('train_emoji.csv',header=None)\n",
    "test = pd.read_csv('test_emoji.csv',header=None)"
   ]
  },
  {
   "cell_type": "code",
   "execution_count": 295,
   "metadata": {},
   "outputs": [
    {
     "data": {
      "text/html": [
       "<div>\n",
       "<style scoped>\n",
       "    .dataframe tbody tr th:only-of-type {\n",
       "        vertical-align: middle;\n",
       "    }\n",
       "\n",
       "    .dataframe tbody tr th {\n",
       "        vertical-align: top;\n",
       "    }\n",
       "\n",
       "    .dataframe thead th {\n",
       "        text-align: right;\n",
       "    }\n",
       "</style>\n",
       "<table border=\"1\" class=\"dataframe\">\n",
       "  <thead>\n",
       "    <tr style=\"text-align: right;\">\n",
       "      <th></th>\n",
       "      <th>0</th>\n",
       "      <th>1</th>\n",
       "      <th>2</th>\n",
       "      <th>3</th>\n",
       "    </tr>\n",
       "  </thead>\n",
       "  <tbody>\n",
       "    <tr>\n",
       "      <th>0</th>\n",
       "      <td>never talk to me again</td>\n",
       "      <td>3</td>\n",
       "      <td>NaN</td>\n",
       "      <td>NaN</td>\n",
       "    </tr>\n",
       "    <tr>\n",
       "      <th>1</th>\n",
       "      <td>I am proud of your achievements</td>\n",
       "      <td>2</td>\n",
       "      <td>NaN</td>\n",
       "      <td>NaN</td>\n",
       "    </tr>\n",
       "    <tr>\n",
       "      <th>2</th>\n",
       "      <td>It is the worst day in my life</td>\n",
       "      <td>3</td>\n",
       "      <td>NaN</td>\n",
       "      <td>NaN</td>\n",
       "    </tr>\n",
       "    <tr>\n",
       "      <th>3</th>\n",
       "      <td>Miss you so much</td>\n",
       "      <td>0</td>\n",
       "      <td>NaN</td>\n",
       "      <td>[0]</td>\n",
       "    </tr>\n",
       "    <tr>\n",
       "      <th>4</th>\n",
       "      <td>food is life</td>\n",
       "      <td>4</td>\n",
       "      <td>NaN</td>\n",
       "      <td>NaN</td>\n",
       "    </tr>\n",
       "  </tbody>\n",
       "</table>\n",
       "</div>"
      ],
      "text/plain": [
       "                                 0  1   2     3\n",
       "0           never talk to me again  3 NaN   NaN\n",
       "1  I am proud of your achievements  2 NaN   NaN\n",
       "2   It is the worst day in my life  3 NaN   NaN\n",
       "3                 Miss you so much  0 NaN   [0]\n",
       "4                     food is life  4 NaN   NaN"
      ]
     },
     "execution_count": 295,
     "metadata": {},
     "output_type": "execute_result"
    }
   ],
   "source": [
    "train.head()"
   ]
  },
  {
   "cell_type": "code",
   "execution_count": 296,
   "metadata": {},
   "outputs": [
    {
     "name": "stdout",
     "output_type": "stream",
     "text": [
      "(132, 4)\n"
     ]
    }
   ],
   "source": [
    "# Let us print the sentences with emojis \n",
    "data = train.values\n",
    "print(data.shape)"
   ]
  },
  {
   "cell_type": "code",
   "execution_count": 297,
   "metadata": {},
   "outputs": [],
   "source": [
    "XT = train[0]\n",
    "Xt = test[0]\n",
    "\n",
    "YT = train[1]\n",
    "Yt = test[1]"
   ]
  },
  {
   "cell_type": "code",
   "execution_count": 298,
   "metadata": {},
   "outputs": [
    {
     "name": "stdout",
     "output_type": "stream",
     "text": [
      "never talk to me again 😓\n",
      "I am proud of your achievements 😁\n",
      "It is the worst day in my life 😓\n",
      "Miss you so much ❤️\n",
      "food is life 🍴\n"
     ]
    }
   ],
   "source": [
    "for i in range(5):\n",
    "    print(XT[i],emoji.emojize(emoji_dictionary[str(YT[i])]))"
   ]
  },
  {
   "cell_type": "markdown",
   "metadata": {},
   "source": [
    "### Step 3: Converting sentences into Embeddings"
   ]
  },
  {
   "cell_type": "code",
   "execution_count": 299,
   "metadata": {},
   "outputs": [],
   "source": [
    "embeddings = {}\n",
    "with open('glove.6B.50d.txt',encoding='utf-8') as f:\n",
    "    for line in f:\n",
    "        values = line.split()\n",
    "        word = values[0]\n",
    "        coeffs = np.asarray(values[1:],dtype='float32')\n",
    "        \n",
    "        embeddings[word] = coeffs"
   ]
  },
  {
   "cell_type": "code",
   "execution_count": 300,
   "metadata": {},
   "outputs": [
    {
     "data": {
      "text/plain": [
       "array([ 6.4295e-01, -4.2946e-01, -5.4277e-01, -1.0307e+00,  1.2056e+00,\n",
       "       -2.7174e-01, -6.3561e-01, -1.5065e-02,  3.7856e-01,  4.6474e-02,\n",
       "       -1.3102e-01,  6.0500e-01,  1.6391e+00,  2.3940e-01,  1.2128e+00,\n",
       "        8.3178e-01,  7.3893e-01,  1.5200e-01, -1.4175e-01, -8.8384e-01,\n",
       "        2.0829e-02, -3.2545e-01,  1.8035e+00,  1.0045e+00,  5.8484e-01,\n",
       "       -6.2031e-01, -4.3296e-01,  2.3562e-01,  1.3027e+00, -8.1264e-01,\n",
       "        2.3158e+00,  1.1030e+00, -6.0608e-01,  1.0101e+00, -2.2426e-01,\n",
       "        1.8908e-02, -1.0931e-01,  3.8350e-01,  7.7362e-01, -8.1927e-02,\n",
       "       -3.4040e-01, -1.5143e-03, -5.6640e-02,  8.7359e-01,  1.4805e+00,\n",
       "        6.9421e-01, -3.0966e-01, -9.0826e-01,  3.7277e-03,  8.4550e-01],\n",
       "      dtype=float32)"
      ]
     },
     "execution_count": 300,
     "metadata": {},
     "output_type": "execute_result"
    }
   ],
   "source": [
    "embeddings[\"eat\"]"
   ]
  },
  {
   "cell_type": "code",
   "execution_count": 301,
   "metadata": {},
   "outputs": [
    {
     "name": "stdout",
     "output_type": "stream",
     "text": [
      "50\n"
     ]
    }
   ],
   "source": [
    "emb_dim = embeddings[\"eat\"].shape[0]\n",
    "print(emb_dim)"
   ]
  },
  {
   "cell_type": "markdown",
   "metadata": {},
   "source": [
    "### Step  4: Converting Sentences into Vector (Embedding layer output)"
   ]
  },
  {
   "cell_type": "code",
   "execution_count": 302,
   "metadata": {},
   "outputs": [],
   "source": [
    "def getOutputEmbeddings(X):\n",
    "    \n",
    "    embedding_matrix_output = np.zeros((X.shape[0],10,50))\n",
    "    for ix in range(X.shape[0]):\n",
    "        X[ix] = X[ix].split()\n",
    "        for jx in range(len(X[ix])):\n",
    "            embedding_matrix_output[ix][jx] = embeddings[X[ix][jx].lower()]\n",
    "            \n",
    "    return embedding_matrix_output"
   ]
  },
  {
   "cell_type": "code",
   "execution_count": 303,
   "metadata": {},
   "outputs": [
    {
     "name": "stderr",
     "output_type": "stream",
     "text": [
      "<ipython-input-302-73145de5bfac>:5: SettingWithCopyWarning: \n",
      "A value is trying to be set on a copy of a slice from a DataFrame\n",
      "\n",
      "See the caveats in the documentation: https://pandas.pydata.org/pandas-docs/stable/user_guide/indexing.html#returning-a-view-versus-a-copy\n",
      "  X[ix] = X[ix].split()\n"
     ]
    }
   ],
   "source": [
    "emb_XT = getOutputEmbeddings(XT)\n",
    "emb_Xt = getOutputEmbeddings(Xt)"
   ]
  },
  {
   "cell_type": "code",
   "execution_count": 304,
   "metadata": {},
   "outputs": [
    {
     "name": "stdout",
     "output_type": "stream",
     "text": [
      "(132, 10, 50)\n",
      "(56, 10, 50)\n"
     ]
    }
   ],
   "source": [
    "print(emb_XT.shape)\n",
    "print(emb_Xt.shape)"
   ]
  },
  {
   "cell_type": "code",
   "execution_count": 305,
   "metadata": {},
   "outputs": [],
   "source": [
    "from keras.utils import to_categorical"
   ]
  },
  {
   "cell_type": "code",
   "execution_count": 306,
   "metadata": {},
   "outputs": [],
   "source": [
    "YT=to_categorical(YT,num_classes=5)\n",
    "Yt=to_categorical(Yt,num_classes=5)"
   ]
  },
  {
   "cell_type": "markdown",
   "metadata": {},
   "source": [
    "### Step 5: Define the RNN/LTSM Model"
   ]
  },
  {
   "cell_type": "code",
   "execution_count": 307,
   "metadata": {},
   "outputs": [],
   "source": [
    "from keras.layers import *\n",
    "from keras.models import Sequential"
   ]
  },
  {
   "cell_type": "code",
   "execution_count": 308,
   "metadata": {},
   "outputs": [
    {
     "name": "stdout",
     "output_type": "stream",
     "text": [
      "Model: \"sequential_24\"\n",
      "_________________________________________________________________\n",
      "Layer (type)                 Output Shape              Param #   \n",
      "=================================================================\n",
      "lstm_37 (LSTM)               (None, 10, 64)            29440     \n",
      "_________________________________________________________________\n",
      "dropout_37 (Dropout)         (None, 10, 64)            0         \n",
      "_________________________________________________________________\n",
      "lstm_38 (LSTM)               (None, 64)                33024     \n",
      "_________________________________________________________________\n",
      "dropout_38 (Dropout)         (None, 64)                0         \n",
      "_________________________________________________________________\n",
      "dense_21 (Dense)             (None, 5)                 325       \n",
      "_________________________________________________________________\n",
      "activation_21 (Activation)   (None, 5)                 0         \n",
      "=================================================================\n",
      "Total params: 62,789\n",
      "Trainable params: 62,789\n",
      "Non-trainable params: 0\n",
      "_________________________________________________________________\n"
     ]
    }
   ],
   "source": [
    "model = Sequential()\n",
    "model.add(LSTM(64,input_shape=(10,50),return_sequences=True))\n",
    "model.add(Dropout(0.5))\n",
    "model.add(LSTM(64, return_sequences=False))\n",
    "model.add(Dropout(0.5))\n",
    "model.add(Dense(5))\n",
    "model.add(Activation('softmax'))\n",
    "model.compile(loss='categorical_crossentropy',optimizer='adam',metrics=['accuracy'])\n",
    "model.summary()"
   ]
  },
  {
   "cell_type": "code",
   "execution_count": 309,
   "metadata": {},
   "outputs": [
    {
     "name": "stdout",
     "output_type": "stream",
     "text": [
      "Epoch 1/100\n",
      "4/4 [==============================] - 2s 495ms/step - loss: 1.5983 - accuracy: 0.1864 - val_loss: 1.6037 - val_accuracy: 0.2857\n",
      "Epoch 2/100\n",
      "4/4 [==============================] - 0s 19ms/step - loss: 1.5534 - accuracy: 0.3220 - val_loss: 1.6426 - val_accuracy: 0.2857\n",
      "Epoch 3/100\n",
      "4/4 [==============================] - 0s 17ms/step - loss: 1.4899 - accuracy: 0.3305 - val_loss: 1.6727 - val_accuracy: 0.3571\n",
      "Epoch 4/100\n",
      "4/4 [==============================] - 0s 28ms/step - loss: 1.5292 - accuracy: 0.3729 - val_loss: 1.6738 - val_accuracy: 0.2143\n",
      "Epoch 5/100\n",
      "4/4 [==============================] - 0s 27ms/step - loss: 1.4746 - accuracy: 0.4153 - val_loss: 1.6453 - val_accuracy: 0.1429\n",
      "Epoch 6/100\n",
      "4/4 [==============================] - 0s 28ms/step - loss: 1.4357 - accuracy: 0.4237 - val_loss: 1.5971 - val_accuracy: 0.2143\n",
      "Epoch 7/100\n",
      "4/4 [==============================] - 0s 40ms/step - loss: 1.3872 - accuracy: 0.4322 - val_loss: 1.5155 - val_accuracy: 0.2143\n",
      "Epoch 8/100\n",
      "4/4 [==============================] - 0s 42ms/step - loss: 1.3311 - accuracy: 0.4661 - val_loss: 1.4288 - val_accuracy: 0.2143\n",
      "Epoch 9/100\n",
      "4/4 [==============================] - 0s 41ms/step - loss: 1.2929 - accuracy: 0.5169 - val_loss: 1.3519 - val_accuracy: 0.3571\n",
      "Epoch 10/100\n",
      "4/4 [==============================] - 0s 42ms/step - loss: 1.1969 - accuracy: 0.5508 - val_loss: 1.2966 - val_accuracy: 0.3571\n",
      "Epoch 11/100\n",
      "4/4 [==============================] - 0s 42ms/step - loss: 1.0768 - accuracy: 0.6356 - val_loss: 1.1950 - val_accuracy: 0.4286\n",
      "Epoch 12/100\n",
      "4/4 [==============================] - 0s 41ms/step - loss: 1.0122 - accuracy: 0.6271 - val_loss: 0.9599 - val_accuracy: 0.6429\n",
      "Epoch 13/100\n",
      "4/4 [==============================] - 0s 42ms/step - loss: 0.8796 - accuracy: 0.7373 - val_loss: 0.9156 - val_accuracy: 0.6429\n",
      "Epoch 14/100\n",
      "4/4 [==============================] - 0s 42ms/step - loss: 0.8077 - accuracy: 0.7119 - val_loss: 0.9600 - val_accuracy: 0.6429\n",
      "Epoch 15/100\n",
      "4/4 [==============================] - 0s 40ms/step - loss: 0.7077 - accuracy: 0.7458 - val_loss: 0.9919 - val_accuracy: 0.6429\n",
      "Epoch 16/100\n",
      "4/4 [==============================] - 0s 42ms/step - loss: 0.6691 - accuracy: 0.7627 - val_loss: 1.0275 - val_accuracy: 0.6429\n",
      "Epoch 17/100\n",
      "4/4 [==============================] - 0s 43ms/step - loss: 0.6893 - accuracy: 0.7458 - val_loss: 0.9387 - val_accuracy: 0.6429\n",
      "Epoch 18/100\n",
      "4/4 [==============================] - 0s 42ms/step - loss: 0.5384 - accuracy: 0.8559 - val_loss: 0.7910 - val_accuracy: 0.6429\n",
      "Epoch 19/100\n",
      "4/4 [==============================] - 0s 41ms/step - loss: 0.5230 - accuracy: 0.8475 - val_loss: 0.8118 - val_accuracy: 0.6429\n",
      "Epoch 20/100\n",
      "4/4 [==============================] - 0s 44ms/step - loss: 0.4258 - accuracy: 0.8814 - val_loss: 0.8800 - val_accuracy: 0.7143\n",
      "Epoch 21/100\n",
      "4/4 [==============================] - 0s 42ms/step - loss: 0.3980 - accuracy: 0.8559 - val_loss: 0.9122 - val_accuracy: 0.5714\n",
      "Epoch 22/100\n",
      "4/4 [==============================] - 0s 44ms/step - loss: 0.3597 - accuracy: 0.8644 - val_loss: 0.7610 - val_accuracy: 0.7143\n",
      "Epoch 23/100\n",
      "4/4 [==============================] - 0s 41ms/step - loss: 0.3714 - accuracy: 0.8559 - val_loss: 0.8715 - val_accuracy: 0.7143\n",
      "Epoch 24/100\n",
      "4/4 [==============================] - 0s 43ms/step - loss: 0.2932 - accuracy: 0.8898 - val_loss: 0.9910 - val_accuracy: 0.5714\n",
      "Epoch 25/100\n",
      "4/4 [==============================] - 0s 46ms/step - loss: 0.2938 - accuracy: 0.8814 - val_loss: 0.7825 - val_accuracy: 0.7857\n",
      "Epoch 26/100\n",
      "4/4 [==============================] - 0s 41ms/step - loss: 0.2382 - accuracy: 0.9407 - val_loss: 0.9824 - val_accuracy: 0.6429\n",
      "Epoch 27/100\n",
      "4/4 [==============================] - 0s 44ms/step - loss: 0.2760 - accuracy: 0.8898 - val_loss: 0.7022 - val_accuracy: 0.6429\n",
      "Epoch 28/100\n",
      "4/4 [==============================] - 0s 47ms/step - loss: 0.1888 - accuracy: 0.9492 - val_loss: 1.0321 - val_accuracy: 0.6429\n",
      "Epoch 29/100\n",
      "4/4 [==============================] - 0s 36ms/step - loss: 0.2446 - accuracy: 0.9237 - val_loss: 0.6318 - val_accuracy: 0.6429\n",
      "Epoch 30/100\n",
      "4/4 [==============================] - 0s 30ms/step - loss: 0.1655 - accuracy: 0.9492 - val_loss: 0.8510 - val_accuracy: 0.6429\n",
      "Epoch 31/100\n",
      "4/4 [==============================] - 0s 30ms/step - loss: 0.1794 - accuracy: 0.9492 - val_loss: 0.9088 - val_accuracy: 0.6429\n",
      "Epoch 32/100\n",
      "4/4 [==============================] - 0s 29ms/step - loss: 0.1883 - accuracy: 0.9407 - val_loss: 0.5778 - val_accuracy: 0.7857\n",
      "Epoch 33/100\n",
      "4/4 [==============================] - 0s 29ms/step - loss: 0.1091 - accuracy: 0.9746 - val_loss: 0.6721 - val_accuracy: 0.6429\n",
      "Epoch 34/100\n",
      "4/4 [==============================] - 0s 28ms/step - loss: 0.1343 - accuracy: 0.9492 - val_loss: 0.7503 - val_accuracy: 0.7857\n",
      "Epoch 35/100\n",
      "4/4 [==============================] - 0s 29ms/step - loss: 0.1280 - accuracy: 0.9661 - val_loss: 0.8433 - val_accuracy: 0.5714\n",
      "Epoch 36/100\n",
      "4/4 [==============================] - 0s 27ms/step - loss: 0.0813 - accuracy: 0.9831 - val_loss: 1.1245 - val_accuracy: 0.5714\n",
      "Epoch 37/100\n",
      "4/4 [==============================] - 0s 33ms/step - loss: 0.1067 - accuracy: 0.9661 - val_loss: 0.7993 - val_accuracy: 0.6429\n",
      "Epoch 38/100\n",
      "4/4 [==============================] - 0s 34ms/step - loss: 0.0866 - accuracy: 0.9746 - val_loss: 1.1229 - val_accuracy: 0.7143\n",
      "Epoch 39/100\n",
      "4/4 [==============================] - 0s 39ms/step - loss: 0.1050 - accuracy: 0.9661 - val_loss: 0.9973 - val_accuracy: 0.6429\n",
      "Epoch 40/100\n",
      "4/4 [==============================] - 0s 27ms/step - loss: 0.0865 - accuracy: 0.9746 - val_loss: 1.2377 - val_accuracy: 0.6429\n",
      "Epoch 41/100\n",
      "4/4 [==============================] - 0s 29ms/step - loss: 0.1023 - accuracy: 0.9661 - val_loss: 1.2438 - val_accuracy: 0.5714\n",
      "Epoch 42/100\n",
      "4/4 [==============================] - 0s 29ms/step - loss: 0.0782 - accuracy: 0.9831 - val_loss: 0.7736 - val_accuracy: 0.7143\n",
      "Epoch 43/100\n",
      "4/4 [==============================] - 0s 29ms/step - loss: 0.1150 - accuracy: 0.9576 - val_loss: 1.3395 - val_accuracy: 0.5714\n",
      "Epoch 44/100\n",
      "4/4 [==============================] - 0s 28ms/step - loss: 0.0826 - accuracy: 0.9661 - val_loss: 1.2401 - val_accuracy: 0.7143\n",
      "Epoch 45/100\n",
      "4/4 [==============================] - 0s 27ms/step - loss: 0.1303 - accuracy: 0.9492 - val_loss: 0.7514 - val_accuracy: 0.7143\n",
      "Epoch 46/100\n",
      "4/4 [==============================] - 0s 27ms/step - loss: 0.1105 - accuracy: 0.9492 - val_loss: 1.2107 - val_accuracy: 0.5714\n",
      "Epoch 47/100\n",
      "4/4 [==============================] - 0s 27ms/step - loss: 0.1328 - accuracy: 0.9492 - val_loss: 0.8946 - val_accuracy: 0.7143\n",
      "Epoch 48/100\n",
      "4/4 [==============================] - 0s 28ms/step - loss: 0.0546 - accuracy: 0.9915 - val_loss: 2.0305 - val_accuracy: 0.5000\n",
      "Epoch 49/100\n",
      "4/4 [==============================] - 0s 26ms/step - loss: 0.1462 - accuracy: 0.9746 - val_loss: 0.9346 - val_accuracy: 0.6429\n",
      "Epoch 50/100\n",
      "4/4 [==============================] - 0s 27ms/step - loss: 0.0884 - accuracy: 0.9576 - val_loss: 0.8058 - val_accuracy: 0.7143\n",
      "Epoch 51/100\n",
      "4/4 [==============================] - 0s 28ms/step - loss: 0.0718 - accuracy: 0.9831 - val_loss: 1.0044 - val_accuracy: 0.7143\n",
      "Epoch 52/100\n",
      "4/4 [==============================] - 0s 28ms/step - loss: 0.0895 - accuracy: 0.9746 - val_loss: 1.0953 - val_accuracy: 0.7143\n",
      "Epoch 53/100\n",
      "4/4 [==============================] - 0s 45ms/step - loss: 0.0344 - accuracy: 1.0000 - val_loss: 1.1412 - val_accuracy: 0.6429\n",
      "Epoch 54/100\n",
      "4/4 [==============================] - 0s 35ms/step - loss: 0.0538 - accuracy: 1.0000 - val_loss: 1.3337 - val_accuracy: 0.5714\n",
      "Epoch 55/100\n",
      "4/4 [==============================] - 0s 30ms/step - loss: 0.0385 - accuracy: 1.0000 - val_loss: 0.9780 - val_accuracy: 0.7857\n",
      "Epoch 56/100\n",
      "4/4 [==============================] - 0s 31ms/step - loss: 0.0390 - accuracy: 0.9915 - val_loss: 1.0996 - val_accuracy: 0.7857\n",
      "Epoch 57/100\n",
      "4/4 [==============================] - 0s 32ms/step - loss: 0.0222 - accuracy: 1.0000 - val_loss: 1.1411 - val_accuracy: 0.7857\n",
      "Epoch 58/100\n",
      "4/4 [==============================] - 0s 29ms/step - loss: 0.0212 - accuracy: 1.0000 - val_loss: 1.1399 - val_accuracy: 0.7857\n",
      "Epoch 59/100\n",
      "4/4 [==============================] - 0s 31ms/step - loss: 0.0168 - accuracy: 1.0000 - val_loss: 1.1684 - val_accuracy: 0.6429\n",
      "Epoch 60/100\n",
      "4/4 [==============================] - 0s 27ms/step - loss: 0.0195 - accuracy: 1.0000 - val_loss: 1.0518 - val_accuracy: 0.7143\n",
      "Epoch 61/100\n",
      "4/4 [==============================] - 0s 30ms/step - loss: 0.0152 - accuracy: 1.0000 - val_loss: 0.9963 - val_accuracy: 0.7143\n",
      "Epoch 62/100\n",
      "4/4 [==============================] - 0s 28ms/step - loss: 0.0170 - accuracy: 1.0000 - val_loss: 1.0200 - val_accuracy: 0.7143\n",
      "Epoch 63/100\n",
      "4/4 [==============================] - 0s 28ms/step - loss: 0.0191 - accuracy: 1.0000 - val_loss: 1.0113 - val_accuracy: 0.7143\n",
      "Epoch 64/100\n",
      "4/4 [==============================] - 0s 32ms/step - loss: 0.0110 - accuracy: 1.0000 - val_loss: 0.9225 - val_accuracy: 0.7143\n",
      "Epoch 65/100\n",
      "4/4 [==============================] - 0s 29ms/step - loss: 0.0136 - accuracy: 1.0000 - val_loss: 0.9183 - val_accuracy: 0.7143\n",
      "Epoch 66/100\n",
      "4/4 [==============================] - 0s 30ms/step - loss: 0.0162 - accuracy: 1.0000 - val_loss: 1.1425 - val_accuracy: 0.6429\n",
      "Epoch 67/100\n",
      "4/4 [==============================] - 0s 29ms/step - loss: 0.0119 - accuracy: 1.0000 - val_loss: 1.5274 - val_accuracy: 0.5000\n",
      "Epoch 68/100\n",
      "4/4 [==============================] - 0s 25ms/step - loss: 0.0099 - accuracy: 1.0000 - val_loss: 1.3822 - val_accuracy: 0.5714\n",
      "Epoch 69/100\n",
      "4/4 [==============================] - 0s 24ms/step - loss: 0.0097 - accuracy: 1.0000 - val_loss: 1.2172 - val_accuracy: 0.6429\n",
      "Epoch 70/100\n",
      "4/4 [==============================] - 0s 19ms/step - loss: 0.0095 - accuracy: 1.0000 - val_loss: 1.1328 - val_accuracy: 0.6429\n",
      "Epoch 71/100\n",
      "4/4 [==============================] - 0s 21ms/step - loss: 0.0082 - accuracy: 1.0000 - val_loss: 1.1517 - val_accuracy: 0.6429\n",
      "Epoch 72/100\n",
      "4/4 [==============================] - 0s 25ms/step - loss: 0.0082 - accuracy: 1.0000 - val_loss: 1.2339 - val_accuracy: 0.6429\n",
      "Epoch 73/100\n",
      "4/4 [==============================] - 0s 28ms/step - loss: 0.0087 - accuracy: 1.0000 - val_loss: 1.3650 - val_accuracy: 0.7143\n",
      "Epoch 74/100\n",
      "4/4 [==============================] - 0s 27ms/step - loss: 0.0127 - accuracy: 1.0000 - val_loss: 1.0805 - val_accuracy: 0.7143\n",
      "Epoch 75/100\n",
      "4/4 [==============================] - 0s 27ms/step - loss: 0.0156 - accuracy: 0.9915 - val_loss: 0.9020 - val_accuracy: 0.7857\n",
      "Epoch 76/100\n",
      "4/4 [==============================] - 0s 27ms/step - loss: 0.0339 - accuracy: 0.9915 - val_loss: 1.0472 - val_accuracy: 0.6429\n",
      "Epoch 77/100\n",
      "4/4 [==============================] - ETA: 0s - loss: 0.0144 - accuracy: 1.00 - 0s 27ms/step - loss: 0.0144 - accuracy: 1.0000 - val_loss: 1.7817 - val_accuracy: 0.5000\n",
      "Epoch 78/100\n",
      "4/4 [==============================] - 0s 26ms/step - loss: 0.0327 - accuracy: 0.9915 - val_loss: 0.8714 - val_accuracy: 0.7857\n",
      "Epoch 79/100\n",
      "4/4 [==============================] - 0s 26ms/step - loss: 0.0201 - accuracy: 1.0000 - val_loss: 0.8760 - val_accuracy: 0.7857\n",
      "Epoch 80/100\n",
      "4/4 [==============================] - 0s 40ms/step - loss: 0.0071 - accuracy: 1.0000 - val_loss: 1.4469 - val_accuracy: 0.6429\n",
      "Epoch 81/100\n",
      "4/4 [==============================] - 0s 19ms/step - loss: 0.0179 - accuracy: 0.9915 - val_loss: 1.4264 - val_accuracy: 0.6429\n",
      "Epoch 82/100\n",
      "4/4 [==============================] - 0s 20ms/step - loss: 0.0066 - accuracy: 1.0000 - val_loss: 1.1111 - val_accuracy: 0.7143\n",
      "Epoch 83/100\n",
      "4/4 [==============================] - 0s 20ms/step - loss: 0.0158 - accuracy: 0.9915 - val_loss: 1.2651 - val_accuracy: 0.7143\n",
      "Epoch 84/100\n",
      "4/4 [==============================] - 0s 21ms/step - loss: 0.0161 - accuracy: 1.0000 - val_loss: 1.1112 - val_accuracy: 0.6429\n",
      "Epoch 85/100\n",
      "4/4 [==============================] - 0s 24ms/step - loss: 0.0088 - accuracy: 1.0000 - val_loss: 1.0397 - val_accuracy: 0.6429\n",
      "Epoch 86/100\n",
      "4/4 [==============================] - 0s 22ms/step - loss: 0.0107 - accuracy: 1.0000 - val_loss: 1.1201 - val_accuracy: 0.5714\n",
      "Epoch 87/100\n",
      "4/4 [==============================] - 0s 23ms/step - loss: 0.0080 - accuracy: 1.0000 - val_loss: 1.3042 - val_accuracy: 0.5000\n",
      "Epoch 88/100\n",
      "4/4 [==============================] - 0s 21ms/step - loss: 0.0100 - accuracy: 1.0000 - val_loss: 1.5554 - val_accuracy: 0.5714\n",
      "Epoch 89/100\n",
      "4/4 [==============================] - 0s 21ms/step - loss: 0.0066 - accuracy: 1.0000 - val_loss: 1.6674 - val_accuracy: 0.5714\n",
      "Epoch 90/100\n",
      "4/4 [==============================] - 0s 28ms/step - loss: 0.0073 - accuracy: 1.0000 - val_loss: 1.6974 - val_accuracy: 0.5714\n",
      "Epoch 91/100\n",
      "4/4 [==============================] - 0s 33ms/step - loss: 0.0058 - accuracy: 1.0000 - val_loss: 1.6589 - val_accuracy: 0.5714\n",
      "Epoch 92/100\n",
      "4/4 [==============================] - 0s 31ms/step - loss: 0.0049 - accuracy: 1.0000 - val_loss: 1.5531 - val_accuracy: 0.5714\n",
      "Epoch 93/100\n",
      "4/4 [==============================] - 0s 32ms/step - loss: 0.0055 - accuracy: 1.0000 - val_loss: 1.4881 - val_accuracy: 0.5714\n",
      "Epoch 94/100\n",
      "4/4 [==============================] - 0s 27ms/step - loss: 0.0129 - accuracy: 1.0000 - val_loss: 1.3291 - val_accuracy: 0.7143\n",
      "Epoch 95/100\n",
      "4/4 [==============================] - 0s 25ms/step - loss: 0.0048 - accuracy: 1.0000 - val_loss: 1.3802 - val_accuracy: 0.7143\n",
      "Epoch 96/100\n",
      "4/4 [==============================] - 0s 25ms/step - loss: 0.0051 - accuracy: 1.0000 - val_loss: 1.4167 - val_accuracy: 0.7143\n",
      "Epoch 97/100\n",
      "4/4 [==============================] - 0s 27ms/step - loss: 0.0055 - accuracy: 1.0000 - val_loss: 1.4433 - val_accuracy: 0.7143\n",
      "Epoch 98/100\n",
      "4/4 [==============================] - 0s 40ms/step - loss: 0.0074 - accuracy: 1.0000 - val_loss: 1.5205 - val_accuracy: 0.7143\n",
      "Epoch 99/100\n",
      "4/4 [==============================] - 0s 35ms/step - loss: 0.0061 - accuracy: 1.0000 - val_loss: 1.6218 - val_accuracy: 0.6429\n",
      "Epoch 100/100\n",
      "4/4 [==============================] - 0s 26ms/step - loss: 0.0052 - accuracy: 1.0000 - val_loss: 1.5856 - val_accuracy: 0.5714\n"
     ]
    }
   ],
   "source": [
    "from keras.callbacks import EarlyStopping\n",
    "from keras.callbacks import ModelCheckpoint\n",
    "\n",
    "checkpoint= ModelCheckpoint(\"best_model.h5\",monitor='val_loss',verbose=True,save_best_only=True)\n",
    "earlystop= EarlyStopping(monitor='val_acc',patience=10)\n",
    "\n",
    "hist = model.fit(emb_XT,YT,batch_size=32,epochs=100 ,shuffle=True,validation_split=0.1)"
   ]
  },
  {
   "cell_type": "code",
   "execution_count": 310,
   "metadata": {},
   "outputs": [],
   "source": [
    "pred = model.predict_classes(emb_Xt)"
   ]
  },
  {
   "cell_type": "code",
   "execution_count": 311,
   "metadata": {},
   "outputs": [
    {
     "name": "stdout",
     "output_type": "stream",
     "text": [
      "[4 3 3 2 2 2 3 2 4 2 1 2 0 3 1 3 2 2 3 2 2 0 4 3 3 3 2 0 1 2 0 1 3 2 0 1 2\n",
      " 3 4 2 1 0 0 1 2 2 3 2 0 3 3 0 3 2 2 3]\n"
     ]
    }
   ],
   "source": [
    "print(pred)"
   ]
  },
  {
   "cell_type": "code",
   "execution_count": 312,
   "metadata": {},
   "outputs": [
    {
     "name": "stdout",
     "output_type": "stream",
     "text": [
      "2/2 [==============================] - 0s 10ms/step - loss: 2.1056 - accuracy: 0.6250\n"
     ]
    },
    {
     "data": {
      "text/plain": [
       "[2.1055965423583984, 0.625]"
      ]
     },
     "execution_count": 312,
     "metadata": {},
     "output_type": "execute_result"
    }
   ],
   "source": [
    "model.evaluate(emb_Xt,Yt)"
   ]
  },
  {
   "cell_type": "code",
   "execution_count": 313,
   "metadata": {},
   "outputs": [],
   "source": [
    "pred = model.predict_classes(emb_Xt)"
   ]
  },
  {
   "cell_type": "code",
   "execution_count": 314,
   "metadata": {},
   "outputs": [
    {
     "name": "stdout",
     "output_type": "stream",
     "text": [
      "I want to eat\n",
      "🍴\n",
      "🍴\n",
      "he did not answer\n",
      "😓\n",
      "😓\n",
      "he got a raise\n",
      "😁\n",
      "😓\n",
      "she got me a present\n",
      "❤️\n",
      "😁\n",
      "ha ha ha it was so funny\n",
      "😁\n",
      "😁\n",
      "he is a good friend\n",
      "❤️\n",
      "😁\n",
      "I am upset\n",
      "❤️\n",
      "😓\n",
      "We had such a lovely dinner tonight\n",
      "❤️\n",
      "😁\n",
      "where is the food\n",
      "🍴\n",
      "🍴\n",
      "Stop making this joke ha ha ha\n",
      "😁\n",
      "😁\n",
      "where is the ball\n",
      "⚾\n",
      "⚾\n",
      "work is hard\n",
      "😓\n",
      "😁\n",
      "This girl is messing with me\n",
      "😓\n",
      "❤️\n",
      "are you serious ha ha\n",
      "😁\n",
      "😓\n",
      "Let us go play baseball\n",
      "⚾\n",
      "⚾\n",
      "This stupid grader is not working\n",
      "😓\n",
      "😓\n",
      "work is horrible\n",
      "😓\n",
      "😁\n",
      "Congratulation for having a baby\n",
      "😁\n",
      "😁\n",
      "stop messing around\n",
      "😓\n",
      "😓\n",
      "any suggestions for dinner\n",
      "🍴\n",
      "😁\n",
      "I love taking breaks\n",
      "❤️\n",
      "😁\n",
      "you brighten my day\n",
      "😁\n",
      "❤️\n",
      "I boiled rice\n",
      "🍴\n",
      "🍴\n",
      "she is a bully\n",
      "😓\n",
      "😓\n",
      "Why are you feeling bad\n",
      "😓\n",
      "😓\n",
      "I am upset\n",
      "😓\n",
      "😓\n",
      "I worked during my birthday\n",
      "😓\n",
      "😁\n",
      "My grandmother is the love of my life\n",
      "❤️\n",
      "❤️\n",
      "enjoy your break\n",
      "😁\n",
      "⚾\n",
      "valentine day is near\n",
      "❤️\n",
      "😁\n"
     ]
    }
   ],
   "source": [
    "for i in range(30):\n",
    "    print(' '.join(Xt[i]))\n",
    "    print(emoji.emojize(emoji_dictionary[str(np.argmax(Yt[i]))]))\n",
    "    print(emoji.emojize(emoji_dictionary[str(pred[i])]))"
   ]
  },
  {
   "cell_type": "code",
   "execution_count": null,
   "metadata": {},
   "outputs": [],
   "source": []
  }
 ],
 "metadata": {
  "kernelspec": {
   "display_name": "Python 3",
   "language": "python",
   "name": "python3"
  },
  "language_info": {
   "codemirror_mode": {
    "name": "ipython",
    "version": 3
   },
   "file_extension": ".py",
   "mimetype": "text/x-python",
   "name": "python",
   "nbconvert_exporter": "python",
   "pygments_lexer": "ipython3",
   "version": "3.8.3"
  }
 },
 "nbformat": 4,
 "nbformat_minor": 4
}
